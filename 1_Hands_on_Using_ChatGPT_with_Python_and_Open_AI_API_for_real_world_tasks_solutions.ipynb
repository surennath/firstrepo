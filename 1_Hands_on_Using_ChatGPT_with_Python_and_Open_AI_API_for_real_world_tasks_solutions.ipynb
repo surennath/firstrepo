{
  "nbformat": 4,
  "nbformat_minor": 0,
  "metadata": {
    "colab": {
      "provenance": [],
      "include_colab_link": true
    },
    "kernelspec": {
      "name": "python3",
      "display_name": "Python 3"
    },
    "language_info": {
      "name": "python"
    }
  },
  "cells": [
    {
      "cell_type": "markdown",
      "metadata": {
        "id": "view-in-github",
        "colab_type": "text"
      },
      "source": [
        "<a href=\"https://colab.research.google.com/github/surennath/firstrepo/blob/master/1_Hands_on_Using_ChatGPT_with_Python_and_Open_AI_API_for_real_world_tasks_solutions.ipynb\" target=\"_parent\"><img src=\"https://colab.research.google.com/assets/colab-badge.svg\" alt=\"Open In Colab\"/></a>"
      ]
    },
    {
      "cell_type": "markdown",
      "source": [
        "# Using ChatGPT with Python and Open AI API for real-world tasks"
      ],
      "metadata": {
        "id": "fb6rdwlCsCGt"
      }
    },
    {
      "cell_type": "markdown",
      "source": [
        "In this notebook you will use the OpenAI's API to solve:\n",
        "\n",
        "- Exercise - 1: Review Analysis and Response\n",
        "- Exercise - 2: Paper Analysis and Summarization\n",
        "- Exercise 3 - Marketing Adverts for Smartphones\n",
        "- Exercise 4 - IT Support Resolution\n",
        "\n",
        "___[Created By: Dipanjan (DJ)](https://www.linkedin.com/in/dipanjans/)___"
      ],
      "metadata": {
        "id": "XTzBUFWQ-OWj"
      }
    },
    {
      "cell_type": "markdown",
      "source": [
        "## Install OpenAI dependencies"
      ],
      "metadata": {
        "id": "L1KvMtf54l0d"
      }
    },
    {
      "cell_type": "code",
      "source": [
        "!pip install openai"
      ],
      "metadata": {
        "id": "2evPp14fy258",
        "colab": {
          "base_uri": "https://localhost:8080/"
        },
        "outputId": "a18a5574-e139-4833-a027-7bfea2c1e05b"
      },
      "execution_count": null,
      "outputs": [
        {
          "output_type": "stream",
          "name": "stdout",
          "text": [
            "Collecting openai\n",
            "  Downloading openai-1.14.0-py3-none-any.whl (257 kB)\n",
            "\u001b[2K     \u001b[90m━━━━━━━━━━━━━━━━━━━━━━━━━━━━━━━━━━━━━━━━\u001b[0m \u001b[32m257.5/257.5 kB\u001b[0m \u001b[31m5.5 MB/s\u001b[0m eta \u001b[36m0:00:00\u001b[0m\n",
            "\u001b[?25hRequirement already satisfied: anyio<5,>=3.5.0 in /usr/local/lib/python3.10/dist-packages (from openai) (3.7.1)\n",
            "Requirement already satisfied: distro<2,>=1.7.0 in /usr/lib/python3/dist-packages (from openai) (1.7.0)\n",
            "Collecting httpx<1,>=0.23.0 (from openai)\n",
            "  Downloading httpx-0.27.0-py3-none-any.whl (75 kB)\n",
            "\u001b[2K     \u001b[90m━━━━━━━━━━━━━━━━━━━━━━━━━━━━━━━━━━━━━━━━\u001b[0m \u001b[32m75.6/75.6 kB\u001b[0m \u001b[31m7.4 MB/s\u001b[0m eta \u001b[36m0:00:00\u001b[0m\n",
            "\u001b[?25hRequirement already satisfied: pydantic<3,>=1.9.0 in /usr/local/lib/python3.10/dist-packages (from openai) (2.6.3)\n",
            "Requirement already satisfied: sniffio in /usr/local/lib/python3.10/dist-packages (from openai) (1.3.1)\n",
            "Requirement already satisfied: tqdm>4 in /usr/local/lib/python3.10/dist-packages (from openai) (4.66.2)\n",
            "Requirement already satisfied: typing-extensions<5,>=4.7 in /usr/local/lib/python3.10/dist-packages (from openai) (4.10.0)\n",
            "Requirement already satisfied: idna>=2.8 in /usr/local/lib/python3.10/dist-packages (from anyio<5,>=3.5.0->openai) (3.6)\n",
            "Requirement already satisfied: exceptiongroup in /usr/local/lib/python3.10/dist-packages (from anyio<5,>=3.5.0->openai) (1.2.0)\n",
            "Requirement already satisfied: certifi in /usr/local/lib/python3.10/dist-packages (from httpx<1,>=0.23.0->openai) (2024.2.2)\n",
            "Collecting httpcore==1.* (from httpx<1,>=0.23.0->openai)\n",
            "  Downloading httpcore-1.0.4-py3-none-any.whl (77 kB)\n",
            "\u001b[2K     \u001b[90m━━━━━━━━━━━━━━━━━━━━━━━━━━━━━━━━━━━━━━━━\u001b[0m \u001b[32m77.8/77.8 kB\u001b[0m \u001b[31m9.1 MB/s\u001b[0m eta \u001b[36m0:00:00\u001b[0m\n",
            "\u001b[?25hCollecting h11<0.15,>=0.13 (from httpcore==1.*->httpx<1,>=0.23.0->openai)\n",
            "  Downloading h11-0.14.0-py3-none-any.whl (58 kB)\n",
            "\u001b[2K     \u001b[90m━━━━━━━━━━━━━━━━━━━━━━━━━━━━━━━━━━━━━━━━\u001b[0m \u001b[32m58.3/58.3 kB\u001b[0m \u001b[31m6.7 MB/s\u001b[0m eta \u001b[36m0:00:00\u001b[0m\n",
            "\u001b[?25hRequirement already satisfied: annotated-types>=0.4.0 in /usr/local/lib/python3.10/dist-packages (from pydantic<3,>=1.9.0->openai) (0.6.0)\n",
            "Requirement already satisfied: pydantic-core==2.16.3 in /usr/local/lib/python3.10/dist-packages (from pydantic<3,>=1.9.0->openai) (2.16.3)\n",
            "Installing collected packages: h11, httpcore, httpx, openai\n",
            "Successfully installed h11-0.14.0 httpcore-1.0.4 httpx-0.27.0 openai-1.14.0\n"
          ]
        }
      ]
    },
    {
      "cell_type": "markdown",
      "source": [
        "## Load OpenAI API Credentials\n",
        "\n",
        "Here we load it from a file so we don't explore the credentials on the internet by mistake"
      ],
      "metadata": {
        "id": "CiwGjVWK4q6F"
      }
    },
    {
      "cell_type": "code",
      "source": [
        "import locale\n",
        "locale.getpreferredencoding = lambda: \"UTF-8\""
      ],
      "metadata": {
        "id": "5e1HqI56y7t3"
      },
      "execution_count": null,
      "outputs": []
    },
    {
      "cell_type": "code",
      "execution_count": null,
      "metadata": {
        "id": "ryheOZuXxa41"
      },
      "outputs": [],
      "source": [
        "import yaml\n",
        "\n",
        "with open('chatgpt_api_credentials.yml', 'r') as file:\n",
        "    api_creds = yaml.safe_load(file)"
      ]
    },
    {
      "cell_type": "code",
      "source": [
        "api_creds.keys()"
      ],
      "metadata": {
        "id": "eZs7ts6NzADJ",
        "colab": {
          "base_uri": "https://localhost:8080/"
        },
        "outputId": "fd98ef70-5f7f-4985-c962-15fd2eff3efc"
      },
      "execution_count": null,
      "outputs": [
        {
          "output_type": "execute_result",
          "data": {
            "text/plain": [
              "dict_keys(['openai_key'])"
            ]
          },
          "metadata": {},
          "execution_count": 4
        }
      ]
    },
    {
      "cell_type": "code",
      "source": [
        "import openai\n",
        "from IPython.display import HTML\n",
        "\n",
        "openai.api_key = api_creds['openai_key']"
      ],
      "metadata": {
        "id": "kDe44J0N0NcC"
      },
      "execution_count": null,
      "outputs": []
    },
    {
      "cell_type": "markdown",
      "source": [
        "## Create ChatGPT Chat Completion Access Function\n",
        "\n",
        "This function will use the [Chat Completion API](https://platform.openai.com/docs/api-reference/chat/create) to access ChatGPT for us and return responses"
      ],
      "metadata": {
        "id": "VDWhgxCy5bA6"
      }
    },
    {
      "cell_type": "code",
      "source": [
        "def get_completion(prompt, model=\"gpt-3.5-turbo\"):\n",
        "    messages = [{\"role\": \"user\", \"content\": prompt}]\n",
        "    response = openai.chat.completions.create(\n",
        "        model=model,\n",
        "        messages=messages,\n",
        "        temperature=0, # degree of randomness of the model's output\n",
        "    )\n",
        "    return response.choices[0].message.content"
      ],
      "metadata": {
        "id": "kA9gVCwK0WKd"
      },
      "execution_count": null,
      "outputs": []
    },
    {
      "cell_type": "markdown",
      "source": [
        "## Let's try out the ChatGPT API!"
      ],
      "metadata": {
        "id": "1TFZjzuGjCOw"
      }
    },
    {
      "cell_type": "code",
      "source": [
        "response = get_completion(prompt='Explain Generative AI in 2 bullet points')\n",
        "print(response)"
      ],
      "metadata": {
        "colab": {
          "base_uri": "https://localhost:8080/"
        },
        "id": "KK-kjmMoi5rO",
        "outputId": "4cea2274-bca5-4007-9c8c-3f1de6e2c83d"
      },
      "execution_count": null,
      "outputs": [
        {
          "output_type": "stream",
          "name": "stdout",
          "text": [
            "- Generative AI is a type of artificial intelligence that is capable of creating new content, such as images, text, or music, based on patterns and data it has been trained on.\n",
            "- This technology can be used in a variety of applications, including creating realistic images for video games, generating personalized content for marketing campaigns, or even composing music or writing stories.\n"
          ]
        }
      ]
    },
    {
      "cell_type": "markdown",
      "source": [
        "## Exercise - 1: Review Analysis and Response\n",
        "\n",
        "For each review get ChatGPT to do the following:\n",
        "\n",
        "            - Summarize the following reviews below, delimited by triple\n",
        "            backticks. For each review, the summary should be at most 3 lines.\n",
        "            - Highlight both the positives and negatives for each review\n",
        "            - Display the overall sentiment for each review (positive, negative, neutral)\n",
        "            - Display a list of 3 - 5 emotions expressed by the customer\n",
        "            - If the sentiment is positive or neutral write an email and thank them for the review\n",
        "            - If the sentiment is negative apologize and write an email with an appropriate response"
      ],
      "metadata": {
        "id": "AeDkpvGDhMGV"
      }
    },
    {
      "cell_type": "code",
      "source": [
        "reviews = [\n",
        "    f\"\"\"\n",
        "    Just received the Bluetooth speaker I ordered for beach outings, and it's fantastic.\n",
        "    The sound quality is impressively clear with just the right amount of bass.\n",
        "    It's also waterproof, which tested true during a recent splashing incident.\n",
        "    Though it's compact, the volume can really fill the space.\n",
        "    The price was a bargain for such high-quality sound.\n",
        "    Shipping was also on point, arriving two days early in secure packaging.\n",
        "    \"\"\",\n",
        "    f\"\"\"\n",
        "    Purchased a new gaming keyboard because of its rave reviews about responsiveness and backlighting.\n",
        "    It hasn't disappointed. The keys have a satisfying click and the LED colors are vibrant,\n",
        "    enhancing my gaming experience significantly. Price-wise, it's quite competitive,\n",
        "    and I feel like I got a good deal. The delivery was swift, and it came well-protected,\n",
        "    ensuring no damage during transport.\n",
        "    \"\"\",\n",
        "    f\"\"\"\n",
        "    Ordered a set of wireless earbuds for running, and they've been a letdown.\n",
        "    The sound constantly cuts out, and the fit is uncomfortable after only a few minutes of use.\n",
        "    They advertised a 12-hour battery life, but I'm barely getting four hours.\n",
        "    Considering the cost, I expected better quality and performance.\n",
        "    They did arrive on time, but the positives end there. I'm already looking into a return.\n",
        "    \"\"\",\n",
        "    f\"\"\"\n",
        "    The tablet stand I bought was touted as being sturdy and adjustable,\n",
        "    but it's anything but. It wobbles with the slightest touch,\n",
        "    and the angles are not holding up as promised. It feels like a breeze could knock it over.\n",
        "    It was also pricier than others I've seen, which adds to the disappointment.\n",
        "    It did arrive promptly, but what's the use if the product doesn't meet basic expectations?\n",
        "    \"\"\",\n",
        "    f\"\"\"\n",
        "    Needed a new kitchen blender, but this model has been a nightmare.\n",
        "    It's supposed to handle various foods, but it struggles with anything tougher than cooked vegetables.\n",
        "    It's also incredibly noisy, and the 'easy-clean' feature is a joke; food gets stuck under the blades constantly.\n",
        "    I thought the brand meant quality, but this product has proven me wrong.\n",
        "    Plus, it arrived three days late. Definitely not worth the expense.\n",
        "    \"\"\"\n",
        "]"
      ],
      "metadata": {
        "id": "hRbBZB57hT0G"
      },
      "execution_count": null,
      "outputs": []
    },
    {
      "cell_type": "code",
      "source": [
        "responses = []\n",
        "\n",
        "for review in reviews:\n",
        "  prompt = f\"\"\"\n",
        "              Act as a product review analyst.\n",
        "              Your task is to perform the following tasks:\n",
        "\n",
        "              - Summarize the following review below, delimited by triple\n",
        "              backticks in at most 3 lines.\n",
        "              - Highlight both the positives and negatives for the review\n",
        "              - Display the overall sentiment for the review (positive, negative, neutral)\n",
        "              - Display a list of 3 - 5 emotions expressed by the customer\n",
        "              - If the sentiment is positive or neutral write an email and thank them for the review\n",
        "              - If the sentiment is negative apologize and write an email with an appropriate response\n",
        "\n",
        "              ```{review}```\n",
        "              \"\"\"\n",
        "  response = get_completion(prompt)\n",
        "  responses.append(response)"
      ],
      "metadata": {
        "id": "jZwPaViatl7f"
      },
      "execution_count": null,
      "outputs": []
    },
    {
      "cell_type": "code",
      "source": [
        "for response in responses:\n",
        "  print(response)\n",
        "  print('------')\n",
        "  print('\\n')"
      ],
      "metadata": {
        "id": "EdUFkKAmtmBj",
        "colab": {
          "base_uri": "https://localhost:8080/"
        },
        "outputId": "c7128126-b973-4be2-e287-81b3ef6369b5"
      },
      "execution_count": null,
      "outputs": [
        {
          "output_type": "stream",
          "name": "stdout",
          "text": [
            "- Positive: Fantastic sound quality, clear with the right amount of bass, waterproof, compact yet powerful volume, bargain price, early and secure shipping.\n",
            "- Negative: None mentioned.\n",
            "- Overall sentiment: Positive\n",
            "- Emotions: Satisfaction, excitement, happiness\n",
            "\n",
            "Dear [Customer],\n",
            "\n",
            "Thank you so much for your positive review of the Bluetooth speaker you purchased for beach outings! We are thrilled to hear that you are enjoying the fantastic sound quality, waterproof feature, and compact yet powerful volume. We appreciate your feedback and are glad to know that the shipping was early and secure. Thank you for choosing our product!\n",
            "\n",
            "Best regards,\n",
            "[Your Name]\n",
            "------\n",
            "\n",
            "\n",
            "- Positive: Responsive keys, vibrant LED colors, competitive price, swift delivery, well-protected packaging.\n",
            "- Negative: None mentioned.\n",
            "- Overall sentiment: Positive\n",
            "- Emotions: Satisfaction, excitement, gratitude\n",
            "\n",
            "Dear [Customer],\n",
            "\n",
            "Thank you for your positive review of our gaming keyboard! We are thrilled to hear that you are enjoying the responsiveness, vibrant LED colors, and competitive price. We appreciate your feedback and are glad that the delivery was swift and the packaging ensured no damage during transport. Thank you for choosing our product!\n",
            "\n",
            "Best regards,\n",
            "[Your Name]\n",
            "------\n",
            "\n",
            "\n",
            "- Review: The wireless earbuds were a letdown with sound cutting out, uncomfortable fit, and short battery life.\n",
            "- Positives: Arrived on time.\n",
            "- Negatives: Sound cutting out, uncomfortable fit, short battery life, expected better quality.\n",
            "- Overall sentiment: Negative\n",
            "- Emotions: Disappointment, frustration, dissatisfaction\n",
            "\n",
            "Dear Customer,\n",
            "\n",
            "Thank you for taking the time to review the wireless earbuds you purchased for running. We are truly sorry to hear about the issues you experienced with the sound cutting out, uncomfortable fit, and short battery life. Your feedback is valuable to us, and we will work to improve the quality and performance of our products. Please reach out to our customer service team for assistance with your return.\n",
            "\n",
            "Sincerely,\n",
            "[Your Name]\n",
            "------\n",
            "\n",
            "\n",
            "- Review: The tablet stand is not as sturdy and adjustable as advertised, wobbling easily and not holding angles well. It is also pricier than expected.\n",
            "- Positives: Prompt delivery.\n",
            "- Negatives: Lack of sturdiness, poor adjustability, higher price point.\n",
            "- Overall sentiment: Negative\n",
            "- Emotions: Disappointment, frustration, dissatisfaction\n",
            "\n",
            "Dear [Customer],\n",
            "\n",
            "Thank you for taking the time to share your feedback on the tablet stand you purchased. We apologize for the disappointment you experienced with the product not meeting your expectations. Your concerns have been noted, and we will work towards improving the quality of our products in the future.\n",
            "\n",
            "Thank you for bringing this to our attention.\n",
            "\n",
            "Sincerely,\n",
            "[Your Name]\n",
            "------\n",
            "\n",
            "\n",
            "- Review: The customer found the kitchen blender to be a nightmare, struggling with tougher foods, being noisy, and difficult to clean.\n",
            "- Positives: None mentioned.\n",
            "- Negatives: Struggles with tougher foods, noisy, difficult to clean, late delivery, not worth the expense.\n",
            "- Overall sentiment: Negative\n",
            "- Emotions: Frustration, disappointment, dissatisfaction\n",
            "\n",
            "Dear Customer,\n",
            "\n",
            "Thank you for taking the time to share your feedback on the kitchen blender. We apologize for the inconvenience and disappointment you have experienced with our product. Your feedback is valuable to us, and we will use it to improve our products and services in the future.\n",
            "\n",
            "Sincerely,\n",
            "[Your Name]\n",
            "------\n",
            "\n",
            "\n"
          ]
        }
      ]
    },
    {
      "cell_type": "markdown",
      "source": [
        "## Exercise - 2: Paper Analysis and Summarization\n",
        "\n",
        "- Act as a Artificial Intelligence Expert.\n",
        "Transform this research paper abstract in triple backticks\n",
        "into a short concise version of maximum 10 lines for your audience.\n",
        "\n",
        "- Act as a Artificial Intelligence Expert.\n",
        "Transform this research paper abstract in triple backticks\n",
        "into an executive summary for a healthcare company.\n",
        "Have bullet points for pros and cons of ethics in Generative AI as mentioned in the paper.\n",
        "\n",
        "- Act as a Artificial Intelligence Expert.\n",
        "Transform this research paper abstract in triple backticks\n",
        "into an executive summary for a generative AI company solving healthcare problems.\n",
        "Have bullet points for key points mentioned for\n",
        "Generative AI for text, images and structured data based healthcare"
      ],
      "metadata": {
        "id": "eEtB1IOimA0i"
      }
    },
    {
      "cell_type": "code",
      "source": [
        "paper_abstract = f\"\"\"\n",
        "The widespread use of ChatGPT and other emerging technology powered by generative\n",
        "artificial intelligence (AI) has drawn much attention to potential ethical issues, especially in\n",
        "high-stakes applications such as healthcare.1–3 However, less clear is how to resolve such\n",
        "issues beyond following guidelines and regulations that are still under discussion and\n",
        "development. On the other hand, other types of generative AI have been used to synthesize\n",
        "images and other types of data for research and practical purposes, which have resolved some\n",
        "ethical issues and exposed other ethical issues,4,5 but such technology is less often the focus\n",
        "of ongoing ethical discussions. Here we highlight gaps in current ethical discussions of\n",
        "generative AI via a systematic scoping review of relevant existing research in healthcare, and\n",
        "reduce the gaps by proposing an ethics checklist for comprehensive assessment and\n",
        "transparent documentation of ethical discussions in generative AI development. While the\n",
        "checklist can be readily integrated into the current peer review and publication system to\n",
        "enhance generative AI research, it may also be used in broader settings to disclose ethicsrelated considerations in generative AI-powered products (or real-life applications of such\n",
        "products) to help users establish reasonable trust in their capabilities.\n",
        "\n",
        "Current ethical discussions on generative AI in healthcare\n",
        "We conducted a systematic scoping review to analyse current ethical discussions on\n",
        "generative AI in healthcare. Our search in four major academic research databases for\n",
        "relevant publications from January 2013 to July 2023 yielded 2859 articles (see Methods for\n",
        "detailed search strategy and Supplementary Figure S1 for the PRISMA flow diagram), of\n",
        "which 193 articles were included for analysis based on application data modality (text, image,\n",
        "or structured data), ethical issues discussed, generative AI involved, and whether generative\n",
        "AI causes or offers technical solutions for issues raised.\n",
        "\n",
        "Generative AI for text data-based healthcare\n",
        "Forty-one of the 193 articles discussed ethical considerations pertaining to generative AI\n",
        "applications for text data, with 20 articles describing methodological developments or\n",
        "applications of generative AI and the other 21 articles describing review-type works on this\n",
        "topic. Although some of these review-type articles used the general term “generative AI”, the\n",
        "main body and supporting evidence focused on LLMs. Twenty-nine articles had in-depth\n",
        "discussions on ethical issues, whereas the other 12 articles only briefly touched on some\n",
        "ethical aspects.\n",
        "Among the 41 articles, 29 articles focused on discussing ethical issues caused by LLMs (and\n",
        "specifically by GPT in 16 of the articles), covering a wide range of application scenarios and\n",
        "considered the application of all 10 ethical principles identified in the review (see Figure 1),\n",
        "as well as other less discussed concerns such as human-AI interaction, and the rights of\n",
        "LLMs to be considered as co-authors in scientific papers. One paper only commented briefly\n",
        "on the need for ethical considerations in LLMs and is summarised in the “Others” category.\n",
        "Although all ethical principles are equally important, some are discussed more often than\n",
        "others, e.g., non-maleficence (also referred to in the literature as ‘benevolence’), equity, and\n",
        "privacy.\n",
        "Fifteen of the 41 articles aimed to resolve some existing ethical issues (for example,\n",
        "confidentiality of medical data) by using LLMs and other generative AI (e.g., GAN,\n",
        "autoencoder or diffusion), such as, to reduce privacy concerns by generating synthetic\n",
        "medical text, to reduce disparity by providing accessible services and assistance, to detect\n",
        "health-related misinformation, to generate trusted content, and to improve accountability or\n",
        "transparency over existing approaches. While most articles focused on either identifying\n",
        "ethical issues caused by generative AI or proposing generative AI-based solutions, three\n",
        "articles discussed both to provide a more balanced perspective.\n",
        "\n",
        "Generative AI for image and structured data-based healthcare\n",
        "Unlike the diverse application scenarios of generative AI based on text data, for image and\n",
        "structured data, this use of generative AI focuses on data synthesis and encryption. Hence the\n",
        "majority of articles discussed the methodological developments of generative AI as giving\n",
        "rise to a more distinctive and focused set of ethical issues.\n",
        "5\n",
        "Notably, of the 98 articles on image data and 58 articles on structured data, more than half\n",
        "(n=63 for image data and n=33 for structured data) only mentioned ethical considerations as a\n",
        "brief motivation for methodological developments or as a general discussion point. The rest\n",
        "included more in-depth discussions or evaluations of ethical issues. Among these 155 articles\n",
        "(as one article covered multiple modalities), 11 articles were review-type work, where 10\n",
        "articles reviewed methods that mentioned one or two ethical perspectives, and only one\n",
        "article24 discussed detailed ethical concerns on generative AI applications.\n",
        "Resolving privacy issues was the main aim of articles for these two data modalities (n=74 for\n",
        "image data and n=50 for structured data; see Figure 1), predominantly by generating synthetic\n",
        "data using GAN. Eight articles on image data and 9 articles on structured data used\n",
        "generative AI to reduce bias, e.g., by synthesizing data for under-represented subgroups in\n",
        "existing databases. For both data modalities, we did not see explicit discussions on resolving\n",
        "autonomy, integrity, or morality issues using generative AI, and for structured data the articles\n",
        "additionally lacked discussions on trust or transparency.\n",
        "Only 11 articles for image data selectively discussed some ethical issues that generative AI\n",
        "can give rise to, without specific discussions regarding autonomy, integrity, or morality. For\n",
        "structured data, only 4 articles discussed equity, privacy, or data security issues caused by\n",
        "generative AI. Only two articles on structured data included both the cause and resolving\n",
        "perspectives by discussing ethical issues that may arise from limitations of methods\n",
        "proposed, specifically bias induced when synthesizing data in order to resolve privacy issues.\n",
        "\"\"\""
      ],
      "metadata": {
        "id": "4FnITE6zhV-9"
      },
      "execution_count": null,
      "outputs": []
    },
    {
      "cell_type": "code",
      "source": [
        "prompt = f\"\"\"\n",
        "Act as a Artificial Intelligence Expert.\n",
        "Transform this research paper abstract in triple backticks\n",
        "into a short concise version of maximum 10 lines for your audience.\n",
        "\n",
        "\n",
        "Abstract:\n",
        "```{paper_abstract}```\n",
        "\"\"\"\n",
        "response = get_completion(prompt)\n",
        "response"
      ],
      "metadata": {
        "id": "6V8bj9PytnwH",
        "colab": {
          "base_uri": "https://localhost:8080/",
          "height": 159
        },
        "outputId": "3c81807c-74fa-407c-d9ef-a1131baa772c"
      },
      "execution_count": null,
      "outputs": [
        {
          "output_type": "execute_result",
          "data": {
            "text/plain": [
              "'Generative AI, like ChatGPT, raises ethical concerns in healthcare. Current discussions focus on guidelines and regulations, but gaps exist. A systematic review highlights ethical issues and proposes an ethics checklist for generative AI development. In healthcare, text data applications discuss ethical considerations caused by LLMs, while image and structured data focus on data synthesis and encryption. Privacy concerns are addressed through generating synthetic data, reducing bias, and improving transparency. However, discussions on autonomy, integrity, and morality issues are lacking. The proposed checklist aims to enhance trust in generative AI-powered products.'"
            ],
            "application/vnd.google.colaboratory.intrinsic+json": {
              "type": "string"
            }
          },
          "metadata": {},
          "execution_count": 16
        }
      ]
    },
    {
      "cell_type": "code",
      "source": [
        "prompt = f\"\"\"\n",
        "Act as a Artificial Intelligence Expert.\n",
        "Transform this research paper abstract in triple backticks\n",
        "into an executive summary for a healthcare company.\n",
        "Have bullet points for pros and cons of ethics in Generative AI as mentioned in the paper.\n",
        "\n",
        "\n",
        "Abstract:\n",
        "```{paper_abstract}```\n",
        "\"\"\"\n",
        "response = get_completion(prompt)\n",
        "print(response)"
      ],
      "metadata": {
        "id": "VoOtVYKttn1d",
        "colab": {
          "base_uri": "https://localhost:8080/"
        },
        "outputId": "48ac3be1-5d99-4094-b1f4-1c2d49dbceb5"
      },
      "execution_count": null,
      "outputs": [
        {
          "output_type": "stream",
          "name": "stdout",
          "text": [
            "Executive Summary:\n",
            "\n",
            "Generative artificial intelligence (AI) technology, such as ChatGPT, is increasingly being used in high-stakes applications like healthcare, raising ethical concerns. This paper highlights the gaps in current ethical discussions surrounding generative AI in healthcare and proposes an ethics checklist for comprehensive assessment and transparent documentation.\n",
            "\n",
            "Pros of Ethics in Generative AI:\n",
            "- Can help resolve ethical issues in healthcare applications\n",
            "- Enhances transparency and trust in generative AI-powered products\n",
            "- Provides a framework for ethical considerations in research and development\n",
            "\n",
            "Cons of Ethics in Generative AI:\n",
            "- Current guidelines and regulations are still under discussion and development\n",
            "- Some ethical issues may be overlooked or not adequately addressed\n",
            "- Lack of focus on certain ethical principles like autonomy, integrity, and morality in generative AI applications\n",
            "\n",
            "Overall, integrating ethical considerations into generative AI research and development can help address existing ethical issues and improve accountability and transparency in the healthcare industry.\n"
          ]
        }
      ]
    },
    {
      "cell_type": "code",
      "source": [
        "prompt = f\"\"\"\n",
        "Act as a Artificial Intelligence Expert.\n",
        "Transform this research paper abstract in triple backticks\n",
        "into an executive summary for a generative AI company solving healthcare problems.\n",
        "Have bullet points for key points mentioned for\n",
        "Generative AI for text, images and structured data based healthcare\n",
        "\n",
        "\n",
        "Abstract:\n",
        "```{paper_abstract}```\n",
        "\"\"\"\n",
        "response = get_completion(prompt)\n",
        "print(response)"
      ],
      "metadata": {
        "colab": {
          "base_uri": "https://localhost:8080/"
        },
        "id": "uLB_1U-mm345",
        "outputId": "7e18ea79-0fa2-407b-eb57-39e371b87fee"
      },
      "execution_count": null,
      "outputs": [
        {
          "output_type": "stream",
          "name": "stdout",
          "text": [
            "### Executive Summary\n",
            "\n",
            "#### Generative AI for Text, Images, and Structured Data in Healthcare\n",
            "\n",
            "- **Ethical Issues in Healthcare AI**: The use of generative AI in healthcare applications has raised ethical concerns, especially in high-stakes scenarios. Current guidelines and regulations are still under development to address these issues.\n",
            "\n",
            "- **Ethics Checklist**: A systematic scoping review highlighted gaps in ethical discussions of generative AI in healthcare. An ethics checklist is proposed to enhance transparency and documentation of ethical considerations in AI development.\n",
            "\n",
            "- **Text Data-Based Healthcare**:\n",
            "  - **Ethical Considerations**: Discussions on ethical issues caused by Language Models (LLMs) and Generative Pre-trained Transformers (GPT) are prevalent, covering principles like non-maleficence, equity, and privacy.\n",
            "  - **Solutions**: Some articles propose using LLMs and other generative AI to address existing ethical concerns, such as privacy, disparity, misinformation detection, and content trustworthiness.\n",
            "\n",
            "- **Image and Structured Data-Based Healthcare**:\n",
            "  - **Ethical Focus**: Generative AI applications for image and structured data primarily aim to synthesize and encrypt data, with a focus on resolving privacy issues.\n",
            "  - **Privacy Concerns**: Synthetic data generation using Generative Adversarial Networks (GAN) is a common approach to address privacy issues in image and structured data.\n",
            "  - **Bias Reduction**: Generative AI is also used to reduce bias by synthesizing data for under-represented subgroups in existing databases.\n",
            "\n",
            "- **Future Directions**:\n",
            "  - **Autonomy and Integrity**: Limited discussions on autonomy, integrity, and morality issues in generative AI applications for image and structured data suggest areas for further exploration.\n",
            "  - **Trust and Transparency**: Enhancing discussions on trust and transparency in AI development can help establish user trust in generative AI-powered healthcare products.\n"
          ]
        }
      ]
    },
    {
      "cell_type": "markdown",
      "source": [
        "## Exercise 3 - Marketing Adverts for Smartphone\n",
        "\n",
        "You have the technical fact sheets of one smartphone. Try some iterative prompt engineering and do the following:\n",
        "\n",
        "1. Generate marketing product description for the smartphone\n",
        "\n",
        "2. Custom product description which has the following:\n",
        "\n",
        "```\n",
        "The description should follow this format:\n",
        "\n",
        "Product Name: <Name of the smartphone>\n",
        "​\n",
        "Description: <Brief Overview of the features>\n",
        "​\n",
        "Product Specifications:\n",
        "<Table with key product feature specifications>\n",
        "​\n",
        "The description should focus on the most important features\n",
        "a customer might look for in a phone including the foldable display screen,\n",
        "processing power, RAM, camera and battery life.\n",
        "​\n",
        "After the description, the table should have the\n",
        "key specifications of the product. It should have two columns.\n",
        "The first column should have 'Feature'\n",
        "and the second column should have 'Specification'\n",
        "and try to put exact numeric values for features if they exist.\n",
        "Only put the most important features in the table which matter to users.\n",
        "```\n",
        "\n",
        "3. Custom product description focusing on specific aspects like display, camera and in less than 60 words"
      ],
      "metadata": {
        "id": "NIo7i6vNmRJO"
      }
    },
    {
      "cell_type": "code",
      "source": [
        "fact_sheet_mobile = \"\"\"\n",
        "PRODUCT NAME\n",
        "Samsung Galaxy Z Fold4 5G Black\n",
        "​\n",
        "PRODUCT OVERVIEW\n",
        "Stands out. Stands up. Unfolds.\n",
        "The Galaxy Z Fold4 does a lot in one hand with its 15.73 cm(6.2-inch) Cover Screen.\n",
        "Unfolded, the 19.21 cm(7.6-inch) Main Screen lets you really get into the zone.\n",
        "Pushed-back bezels and the Under Display Camera means there's more screen\n",
        "and no black dot getting between you and the breathtaking Infinity Flex Display.\n",
        "Do more than more with Multi View. Whether toggling between texts or catching up\n",
        "on emails, take full advantage of the expansive Main Screen with Multi View.\n",
        "PC-like power thanks to Qualcomm Snapdragon 8+ Gen 1 processor in your pocket,\n",
        "transforms apps optimized with One UI to give you menus and more in a glance\n",
        "New Taskbar for PC-like multitasking. Wipe out tasks in fewer taps. Add\n",
        "apps to the Taskbar for quick navigation and bouncing between windows when\n",
        "you're in the groove.4 And with App Pair, one tap launches up to three apps,\n",
        "all sharing one super-productive screen\n",
        "Our toughest Samsung Galaxy foldables ever. From the inside out,\n",
        "Galaxy Z Fold4 is made with materials that are not only stunning,\n",
        "but stand up to life's bumps and fumbles. The front and rear panels,\n",
        "made with exclusive Corning Gorilla Glass Victus+, are ready to resist\n",
        "sneaky scrapes and scratches. With our toughest aluminum frame made with\n",
        "Armor Aluminum, this is one durable smartphone.\n",
        "World’s first water resistant foldable smartphones. Be adventurous, rain\n",
        "or shine. You don't have to sweat the forecast when you've got one of the\n",
        "world's first water-resistant foldable smartphones.\n",
        "​\n",
        "PRODUCT SPECS\n",
        "OS - Android 12.0\n",
        "RAM - 12 GB\n",
        "Product Dimensions - 15.5 x 13 x 0.6 cm; 263 Grams\n",
        "Batteries - 2 Lithium Ion batteries required. (included)\n",
        "Item model number - SM-F936BZKDINU_5\n",
        "Wireless communication technologies - Cellular\n",
        "Connectivity technologies - Bluetooth, Wi-Fi, USB, NFC\n",
        "GPS - True\n",
        "Special features - Fast Charging Support, Dual SIM, Wireless Charging, Built-In GPS, Water Resistant\n",
        "Other display features - Wireless\n",
        "Device interface - primary - Touchscreen\n",
        "Resolution - 2176x1812\n",
        "Other camera features - Rear, Front\n",
        "Form factor - Foldable Screen\n",
        "Colour - Phantom Black\n",
        "Battery Power Rating - 4400\n",
        "Whats in the box - SIM Tray Ejector, USB Cable\n",
        "Manufacturer - Samsung India pvt Ltd\n",
        "Country of Origin - China\n",
        "Item Weight - 263 g\n",
        "\"\"\""
      ],
      "metadata": {
        "id": "1F5spdPWmWrr"
      },
      "execution_count": null,
      "outputs": []
    },
    {
      "cell_type": "code",
      "source": [
        "prompt = f\"\"\"\n",
        "Act as a marketing manager.\n",
        "Your task is to help a marketing team create a\n",
        "description for a retail website advert of a product based\n",
        "on a technical fact sheet specifications for a mobile smartphone\n",
        "in triple backticks.\n",
        "​\n",
        "Write a brief product description\n",
        "\n",
        "Technical specifications:\n",
        "```{fact_sheet_mobile}```\n",
        "\"\"\"\n",
        "response = get_completion(prompt)\n",
        "print(response)"
      ],
      "metadata": {
        "id": "QXsNT5cptrE0",
        "colab": {
          "base_uri": "https://localhost:8080/"
        },
        "outputId": "0c1df0bf-2dee-4b3f-9068-ab60233d9c6a"
      },
      "execution_count": null,
      "outputs": [
        {
          "output_type": "stream",
          "name": "stdout",
          "text": [
            "Introducing the Samsung Galaxy Z Fold4 5G Black - the ultimate smartphone that stands out, stands up, and unfolds to reveal a world of possibilities. With a 6.2-inch Cover Screen and a 7.6-inch Main Screen, you can immerse yourself in a truly expansive viewing experience. The Under Display Camera and pushed-back bezels ensure a seamless display without any distractions.\n",
            "\n",
            "Powered by the Qualcomm Snapdragon 8+ Gen 1 processor and running on Android 12.0, this smartphone offers PC-like power in the palm of your hand. The new Taskbar feature allows for efficient multitasking, while the App Pair function lets you launch up to three apps simultaneously on one screen.\n",
            "\n",
            "Built with the toughest materials, including Corning Gorilla Glass Victus+ and Armor Aluminum, the Galaxy Z Fold4 is durable and ready to withstand life's challenges. Plus, it is the world's first water-resistant foldable smartphone, so you can take it anywhere, rain or shine.\n",
            "\n",
            "With 12GB of RAM, fast charging support, dual SIM capabilities, and a stunning Phantom Black color, the Samsung Galaxy Z Fold4 is the perfect blend of style and functionality. Get ready to unfold a new world of possibilities with the Galaxy Z Fold4.\n"
          ]
        }
      ]
    },
    {
      "cell_type": "code",
      "source": [
        "prompt = f\"\"\"\n",
        "Act as a marketing manager.\n",
        "Your task is to help a marketing team create a\n",
        "description for a retail website advert of a product based\n",
        "on a technical fact sheet specifications for a mobile smartphone\n",
        "in triple backticks.\n",
        "​\n",
        "Write a brief product description.\n",
        "\n",
        "The description should follow this format:\n",
        "\n",
        "Product Name: <Name of the smartphone>\n",
        "​\n",
        "Description: <Brief Overview of the features>\n",
        "​\n",
        "Product Specifications:\n",
        "<Table with key product feature specifications>\n",
        "​\n",
        "The description should only focus on the most important features\n",
        "a customer might look for in a phone including the foldable display screen,\n",
        "processing power, RAM, camera and battery life.\n",
        "​\n",
        "After the description, the table should have the\n",
        "key specifications of the product. It should have two columns.\n",
        "The first column should have 'Feature'\n",
        "and the second column should have 'Specification'\n",
        "and try to put exact numeric values for features if they exist.\n",
        "Only put the most important features in the table which matter to users.\n",
        "\n",
        "Technical specifications:\n",
        "```{fact_sheet_mobile}```\n",
        "\"\"\"\n",
        "\n",
        "response = get_completion(prompt)\n",
        "print(response)"
      ],
      "metadata": {
        "id": "A0kIyc4ZtrIU",
        "colab": {
          "base_uri": "https://localhost:8080/"
        },
        "outputId": "ad553bd1-686b-4cd8-f54d-b342d7af2fd7"
      },
      "execution_count": null,
      "outputs": [
        {
          "output_type": "stream",
          "name": "stdout",
          "text": [
            "Product Name: Samsung Galaxy Z Fold4 5G Black\n",
            "\n",
            "Description: The Samsung Galaxy Z Fold4 5G Black is a revolutionary foldable smartphone that combines cutting-edge technology with a sleek design. With a 6.2-inch Cover Screen and a 7.6-inch Main Screen, you can easily switch between tasks and enjoy a truly immersive experience. Powered by a Qualcomm Snapdragon 8+ Gen 1 processor and 12GB of RAM, this phone offers PC-like power in the palm of your hand. The Galaxy Z Fold4 is also our toughest foldable smartphone yet, featuring Corning Gorilla Glass Victus+ and water-resistant technology.\n",
            "\n",
            "Product Specifications:\n",
            "| Feature              | Specification                  |\n",
            "|----------------------|--------------------------------|\n",
            "| OS                   | Android 12.0                   |\n",
            "| RAM                  | 12 GB                          |\n",
            "| Display              | 6.2-inch Cover Screen, 7.6-inch Main Screen |\n",
            "| Processor            | Qualcomm Snapdragon 8+ Gen 1   |\n",
            "| Storage              | 256GB                          |\n",
            "| Camera               | Rear and Front                  |\n",
            "| Battery              | 4400 mAh                       |\n",
            "| Special Features     | Fast Charging, Wireless Charging, Water Resistant |\n",
            "| Connectivity         | Bluetooth, Wi-Fi, USB, NFC     |\n",
            "| Color                | Phantom Black                  |\n",
            "| Weight               | 263 g                          |\n"
          ]
        }
      ]
    },
    {
      "cell_type": "code",
      "source": [
        "prompt = f\"\"\"\n",
        "Act as a marketing manager.\n",
        "Your task is to help a marketing team create a\n",
        "description for a retail website advert of a product based\n",
        "on a technical fact sheet specifications for a mobile smartphone\n",
        "in triple backticks.\n",
        "\n",
        "Write a catchy product description which uses at most 60 words\n",
        "and focuses on the most important things about the smartphone\n",
        "which might matter to users like display and camera\n",
        "\n",
        "Technical specifications:\n",
        "```{fact_sheet_mobile}```\n",
        "\"\"\"\n",
        "\n",
        "response = get_completion(prompt)\n",
        "print(response)"
      ],
      "metadata": {
        "colab": {
          "base_uri": "https://localhost:8080/"
        },
        "id": "ed-Y_8IvoPUt",
        "outputId": "e6022394-b026-453d-f6ca-2ebdeb046561"
      },
      "execution_count": null,
      "outputs": [
        {
          "output_type": "stream",
          "name": "stdout",
          "text": [
            "Introducing the Samsung Galaxy Z Fold4 5G Black - the ultimate smartphone experience. Unfold the 7.6-inch Main Screen for immersive viewing. Capture stunning photos with the Under Display Camera. Enjoy PC-like power with Qualcomm Snapdragon 8+ Gen 1 processor. With water resistance and durable materials, this foldable smartphone is ready for anything. Get yours today and elevate your mobile experience.\n"
          ]
        }
      ]
    },
    {
      "cell_type": "code",
      "source": [
        "response"
      ],
      "metadata": {
        "colab": {
          "base_uri": "https://localhost:8080/",
          "height": 106
        },
        "id": "0JI7l0yjq_V3",
        "outputId": "d237c2d1-d5da-4438-fbaa-4e2d205317c0"
      },
      "execution_count": null,
      "outputs": [
        {
          "output_type": "execute_result",
          "data": {
            "text/plain": [
              "'Introducing the Samsung Galaxy Z Fold4 5G Black - the ultimate smartphone experience. Unfold the 7.6-inch Main Screen for immersive viewing. Capture stunning photos with the Under Display Camera. Enjoy PC-like power with Qualcomm Snapdragon 8+ Gen 1 processor. With water resistance and durable materials, this foldable smartphone is ready for anything. Get yours today and elevate your mobile experience.'"
            ],
            "application/vnd.google.colaboratory.intrinsic+json": {
              "type": "string"
            }
          },
          "metadata": {},
          "execution_count": 14
        }
      ]
    },
    {
      "cell_type": "markdown",
      "source": [
        "## Exercise 4 - IT Support Resolution\n",
        "\n",
        "Ask ChatGPT to act as a customer support agent, process each customer ticket message and output the response in JSON with the following fields\n",
        "```\n",
        "orig_msg: The original customer message\n",
        "orig_lang: Detected language of the customer message e.g. Spanish\n",
        "category: 1-2 word describing the category of the problem\n",
        "trans_msg: Translated customer message in English\n",
        "response: Response to the customer in orig_lang\n",
        "trans_response: Response to the customer in English\n",
        "```\n",
        "\n",
        "Hint: Use the following prompt in a for loop\n",
        "\n",
        "```\n",
        "prompt = f\"\"\"\n",
        "            Act as a customer support agent. For the IT support message mentioned below\n",
        "            in triple backticks, create a response is JSON in the following format:\n",
        "\n",
        "            {{\n",
        "                orig_msg: The original customer message\n",
        "                orig_lang: Detected language of the customer message e.g. Spanish\n",
        "                category: 1-2 word describing the category of the problem\n",
        "                trans_msg: Translated customer message in English\n",
        "                response: Response to the customer in orig_lang\n",
        "                trans_response: Response to the customer in English\n",
        "            }}\n",
        "\n",
        "            Message:\n",
        "            '''{msg}'''\n",
        "            \"\"\"\n",
        "```"
      ],
      "metadata": {
        "id": "_VBDwjHlowmk"
      }
    },
    {
      "cell_type": "code",
      "source": [
        "it_support_queue = [\n",
        "    \"Não consigo sincronizar meus contatos com o telefone. Sempre recebo uma mensagem de falha.\",\n",
        "    \"Ho problemi a stampare i documenti da remoto. Il lavoro non viene inviato alla stampante di rete.\",\n",
        "    \"プリンターのトナーを交換しましたが、印刷品質が低下しています。サポートが必要です。\",\n",
        "    \"Я не могу войти в систему учета времени, появляется сообщение об ошибке. Мне нужна помощь.\",\n",
        "    \"Internet bağlantım çok yavaş ve bazen tamamen kesiliyor. Yardım eder misiniz?\",\n",
        "    \"Не могу установить обновление безопасности. Появляется код ошибки. Помогите, пожалуйста.\"\n",
        "]"
      ],
      "metadata": {
        "id": "ZrRFJVSMoDqa"
      },
      "execution_count": null,
      "outputs": []
    },
    {
      "cell_type": "code",
      "source": [
        "responses = []\n",
        "\n",
        "for msg in it_support_queue:\n",
        "  prompt = f\"\"\"\n",
        "            Act as a customer support agent. For the IT support message mentioned below\n",
        "            in triple backticks, create a response is JSON in the following format:\n",
        "\n",
        "            {{\n",
        "                orig_msg: The original customer message\n",
        "                orig_lang: Detected language of the customer message e.g. Spanish\n",
        "                category: 1-2 word describing the category of the problem\n",
        "                trans_msg: Translated customer message in English\n",
        "                response: Response to the customer in orig_lang\n",
        "                trans_response: Response to the customer in English\n",
        "            }}\n",
        "\n",
        "            Message:\n",
        "            '''{msg}'''\n",
        "            \"\"\"\n",
        "  response = get_completion(prompt)\n",
        "  responses.append(response)"
      ],
      "metadata": {
        "id": "LUluiGOsts0z"
      },
      "execution_count": null,
      "outputs": []
    },
    {
      "cell_type": "code",
      "source": [
        "for response in responses:\n",
        "  print(response)\n",
        "  print('-----')\n",
        "  print('\\n')"
      ],
      "metadata": {
        "id": "kjtsm77ets3h",
        "colab": {
          "base_uri": "https://localhost:8080/"
        },
        "outputId": "fc444805-1fde-40b4-debf-a631c8cebe24"
      },
      "execution_count": null,
      "outputs": [
        {
          "output_type": "stream",
          "name": "stdout",
          "text": [
            "{\n",
            "    orig_msg: \"Não consigo sincronizar meus contatos com o telefone. Sempre recebo uma mensagem de falha.\"\n",
            "    orig_lang: \"Portuguese\"\n",
            "    category: \"Sync Issue\"\n",
            "    trans_msg: \"I can't sync my contacts with the phone. I always receive a failure message.\"\n",
            "    response: \"Olá, lamentamos o inconveniente que está enfrentando. Para resolver esse problema, recomendamos que verifique a conexão com a internet e as configurações de sincronização. Se o problema persistir, entre em contato conosco para obter assistência adicional.\"\n",
            "    trans_response: \"Hello, we apologize for the inconvenience you are facing. To resolve this issue, we recommend checking the internet connection and sync settings. If the problem persists, please contact us for further assistance.\"\n",
            "}\n",
            "-----\n",
            "\n",
            "\n",
            "{\n",
            "    orig_msg: \"Ho problemi a stampare i documenti da remoto. Il lavoro non viene inviato alla stampante di rete.\"\n",
            "    orig_lang: \"Italian\"\n",
            "    category: \"Printing\"\n",
            "    trans_msg: \"I am having trouble printing documents remotely. The job is not being sent to the network printer.\"\n",
            "    response: \"Grazie per averci contattato. Per risolvere il problema, ti consigliamo di controllare la connessione di rete e assicurarti che la stampante sia correttamente configurata per la stampa remota.\"\n",
            "    trans_response: \"Thank you for reaching out to us. To resolve the issue, we recommend checking the network connection and ensuring that the printer is properly configured for remote printing.\"\n",
            "}\n",
            "-----\n",
            "\n",
            "\n",
            "{\n",
            "    orig_msg: \"プリンターのトナーを交換しましたが、印刷品質が低下しています。サポートが必要です。\",\n",
            "    orig_lang: \"Japanese\",\n",
            "    category: \"Printing\",\n",
            "    trans_msg: \"I replaced the printer toner, but the print quality has decreased. I need support.\",\n",
            "    response: \"トナーを交換する際に、正しくセットアップされているか確認してください。また、プリンターのメンテナンスが必要な場合があります。サポートチームがお手伝いします。\",\n",
            "    trans_response: \"Please make sure it was correctly set up when replacing the toner. Also, the printer may need maintenance. Our support team will assist you.\"\n",
            "}\n",
            "-----\n",
            "\n",
            "\n",
            "{\n",
            "    orig_msg: \"Я не могу войти в систему учета времени, появляется сообщение об ошибке. Мне нужна помощь.\",\n",
            "    orig_lang: \"Russian\",\n",
            "    category: \"Login\",\n",
            "    trans_msg: \"I can't log into the time tracking system, an error message appears. I need help.\",\n",
            "    response: \"Пожалуйста, попробуйте очистить кэш браузера и попробовать снова. Если проблема не решена, обратитесь к администратору системы.\",\n",
            "    trans_response: \"Please try clearing your browser cache and trying again. If the issue persists, please contact the system administrator.\"\n",
            "}\n",
            "-----\n",
            "\n",
            "\n",
            "{\n",
            "    orig_msg: \"Internet bağlantım çok yavaş ve bazen tamamen kesiliyor. Yardım eder misiniz?\"\n",
            "    orig_lang: \"Turkish\"\n",
            "    category: \"Internet Connectivity\"\n",
            "    trans_msg: \"My internet connection is very slow and sometimes completely cuts off. Can you help?\"\n",
            "    response: \"Tabii, internet bağlantınızı kontrol etmek için size yardımcı olabilirim. Lütfen modeminizi ve router'ınızı kontrol edin ve bana geri bildirim verin.\"\n",
            "    trans_response: \"Of course, I can help you check your internet connection. Please check your modem and router and give me feedback.\"\n",
            "}\n",
            "-----\n",
            "\n",
            "\n",
            "{\n",
            "    orig_msg: \"Не могу установить обновление безопасности. Появляется код ошибки. Помогите, пожалуйста.\",\n",
            "    orig_lang: \"Russian\",\n",
            "    category: \"Installation\",\n",
            "    trans_msg: \"I can't install the security update. An error code appears. Please help.\",\n",
            "    response: \"Пожалуйста, попробуйте перезагрузить компьютер и повторить попытку установки обновления. Если проблема сохраняется, пожалуйста, свяжитесь с нашей службой поддержки.\",\n",
            "    trans_response: \"Please try restarting your computer and trying to install the update again. If the problem persists, please contact our support team.\"\n",
            "}\n",
            "-----\n",
            "\n",
            "\n"
          ]
        }
      ]
    }
  ]
}